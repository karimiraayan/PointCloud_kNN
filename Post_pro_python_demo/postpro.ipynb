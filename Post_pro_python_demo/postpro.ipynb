{
 "cells": [
  {
   "cell_type": "markdown",
   "metadata": {},
   "source": [
    "import data"
   ]
  },
  {
   "cell_type": "code",
   "execution_count": 1,
   "metadata": {},
   "outputs": [],
   "source": [
    "import pickle\n",
    "import tensorflow as tf\n",
    "import numpy as np\n",
    "from PIL import Image as im\n",
    "import math\n",
    "from scipy import io"
   ]
  },
  {
   "cell_type": "code",
   "execution_count": 2,
   "metadata": {},
   "outputs": [
    {
     "name": "stdout",
     "output_type": "stream",
     "text": [
      "[0. 0. 0. 0. 0. 0. 0. 0. 0. 0. 0. 0. 0. 0. 0. 1. 0. 0. 0. 0.]\n"
     ]
    }
   ],
   "source": [
    "\n",
    "search_size=5\n",
    "index_center_pixel=int((search_size*search_size-1)/2) #center pixel index\n",
    "sample_number=50 #batch index\n",
    "cutoff=5\n",
    "classes_number=20\n",
    "h=64\n",
    "w=1024\n",
    "total_number_of_points=130000\n",
    "neibor_number=5\n",
    "file = open (\"labels2d.bin\",\"rb\")\n",
    "labels2d= pickle.load(file)\n",
    "file.close()\n",
    "file = open (\"depth2d.bin\",\"rb\")\n",
    "depth2d= pickle.load(file)\n",
    "file.close()\n",
    "file = open (\"depth3d.bin\",\"rb\")\n",
    "depth3d= pickle.load(file)\n",
    "file.close()\n",
    "file = open (\"points_2d_mapping.bin\",\"rb\")\n",
    "points_2d_mapping= pickle.load(file)\n",
    "file.close()\n",
    "labels2d= labels2d.numpy()\n",
    "depth3d= depth3d.numpy()\n",
    "depth2d= depth2d.numpy()\n",
    "points_2d_mapping= points_2d_mapping.numpy()\n",
    "depth2d=depth2d[sample_number,:,:]\n",
    "depth3d=depth3d[sample_number,:]\n",
    "points_2d_mapping=points_2d_mapping[sample_number,:]\n",
    "print (labels2d[1,2,33,:])\n",
    "labels2d=labels2d[sample_number,:,:,:]\n",
    "\n",
    "\n",
    "# show the sample image\n",
    "im.fromarray(np.uint8(depth2d*10)).save('depth2dImage.png')\n",
    "\n",
    "\n",
    "\n",
    "\n",
    "#piture extention for the window funtion to work\n",
    "# padding\n",
    "depth2d=np.insert(depth2d,1024,depth2d[:,0],axis=1)\n",
    "depth2d=np.insert(depth2d,1025,depth2d[:,1],axis=1)\n",
    "depth2d=np.insert(depth2d,1026,depth2d[:,2],axis=1)\n",
    "depth2d=np.insert(depth2d,1027,depth2d[:,3],axis=1)\n",
    "depth2d=np.insert(depth2d,64,np.zeros(1028),axis=0)\n",
    "depth2d=np.insert(depth2d,65,np.zeros(1028),axis=0)\n",
    "depth2d=np.insert(depth2d,66,np.zeros(1028),axis=0)\n",
    "depth2d=np.insert(depth2d,67,np.zeros(1028),axis=0)\n",
    "\n",
    "\n",
    "label2dnew=np.zeros((h,w))\n",
    "for ww in range (1024):\n",
    "        for hh in range (64):\n",
    "                for j in range(20):\n",
    "                        if 1==labels2d[hh,ww,j]:\n",
    "                            label2dnew[hh,ww]=j\n",
    "#save the label image\n",
    "data = im.fromarray(np.uint8(label2dnew*5))\n",
    "data.save('label2DtoImage.png')\n",
    "\n",
    "label2dnew=np.insert(label2dnew,1024,label2dnew[:,0],axis=1)\n",
    "label2dnew=np.insert(label2dnew,1025,label2dnew[:,1],axis=1)\n",
    "label2dnew=np.insert(label2dnew,1026,label2dnew[:,2],axis=1)\n",
    "label2dnew=np.insert(label2dnew,1027,label2dnew[:,3],axis=1)\n",
    "label2dnew=np.insert(label2dnew,64,np.zeros((1028,1)),axis=0)\n",
    "label2dnew=np.insert(label2dnew,65,np.zeros((1028,1)),axis=0)\n",
    "label2dnew=np.insert(label2dnew,66,np.zeros((1028,1)),axis=0)\n",
    "label2dnew=np.insert(label2dnew,67,np.zeros((1028,1)),axis=0)"
   ]
  },
  {
   "cell_type": "markdown",
   "metadata": {},
   "source": [
    "gauaain_kernel"
   ]
  },
  {
   "cell_type": "code",
   "execution_count": null,
   "metadata": {},
   "outputs": [],
   "source": [
    "def get_gaussian_kernel(kernelsize=3, sigma=2):\n",
    "    xy_grid = np.indices((kernelsize, kernelsize))\n",
    "\n",
    "    mean = (kernelsize - 1) / 2.0\n",
    "    variance = sigma**2\n",
    "\n",
    "    gaussian = (1 / (2 * np.pi * variance)) * np.exp(\n",
    "        -np.sum((xy_grid - mean) ** 2, axis=0) / (2 * variance)\n",
    "    )\n",
    "    gaussian = gaussian / np.sum(gaussian)\n",
    "    return gaussian\n",
    "\n",
    "G_prim=get_gaussian_kernel(search_size,1)"
   ]
  },
  {
   "cell_type": "markdown",
   "metadata": {},
   "source": [
    "Get S^2 neighbors N_prim[h*w,S^2] for each pixel"
   ]
  },
  {
   "cell_type": "code",
   "execution_count": null,
   "metadata": {},
   "outputs": [],
   "source": [
    "N_prim=np.zeros((w*h,search_size*search_size))\n",
    "for v in range (h):\n",
    "    for u in range (w):\n",
    "        for i in range (search_size):\n",
    "            for j in range (search_size):\n",
    "             N_prim [v*w+u][i*search_size+j]=depth2d[v+j-2][u+i-2]"
   ]
  },
  {
   "cell_type": "markdown",
   "metadata": {},
   "source": [
    "Get neighbors N for each point &  Fill in real point ranges "
   ]
  },
  {
   "cell_type": "code",
   "execution_count": null,
   "metadata": {},
   "outputs": [],
   "source": [
    "N=np.zeros((total_number_of_points,search_size*search_size))\n",
    "\n",
    "for point_index, pixel_index_uv in enumerate(points_2d_mapping):\n",
    "    N[point_index, :] = N_prim[pixel_index_uv, :]\n",
    "    N[point_index, index_center_pixel]=depth3d[point_index]\n",
    "\n"
   ]
  },
  {
   "cell_type": "markdown",
   "metadata": {},
   "source": [
    " Label neighbors L_prim for each pixel"
   ]
  },
  {
   "cell_type": "code",
   "execution_count": null,
   "metadata": {},
   "outputs": [],
   "source": [
    "L_prim=np.zeros((w*h,search_size*search_size))\n",
    "for v in range (h):\n",
    "    for u in range (w):\n",
    "        for i in range (search_size):\n",
    "            for j in range (search_size):\n",
    "             L_prim [v*w+u,i*search_size+j]=label2dnew[v+j-2,u+i-2]"
   ]
  },
  {
   "cell_type": "markdown",
   "metadata": {},
   "source": [
    "Get label neighbors L for each point "
   ]
  },
  {
   "cell_type": "code",
   "execution_count": null,
   "metadata": {},
   "outputs": [],
   "source": [
    "L=np.zeros((total_number_of_points,search_size*search_size))\n",
    "\n",
    "\n",
    "for point_index, pixel_index_uv in enumerate(points_2d_mapping):\n",
    "    L[point_index, :] = L_prim[pixel_index_uv, :]\n",
    "    n +=1   "
   ]
  },
  {
   "cell_type": "markdown",
   "metadata": {},
   "source": [
    " Distances to neighbors D for each point"
   ]
  },
  {
   "cell_type": "code",
   "execution_count": null,
   "metadata": {},
   "outputs": [],
   "source": [
    "D=np.zeros((total_number_of_points,search_size*search_size))\n",
    "for i in range (total_number_of_points):\n",
    "    D[i,:]=np.absolute([N[i,:]-N[i,index_center_pixel]])    "
   ]
  },
  {
   "cell_type": "markdown",
   "metadata": {},
   "source": [
    "Compute inverse Gaussian Kernel "
   ]
  },
  {
   "cell_type": "code",
   "execution_count": null,
   "metadata": {},
   "outputs": [],
   "source": [
    "G=1-np.max(G_prim)*G_prim\n",
    "G = G.flatten()"
   ]
  },
  {
   "cell_type": "markdown",
   "metadata": {},
   "source": [
    "Weight neighbors with inverse Gaussian kernel"
   ]
  },
  {
   "cell_type": "code",
   "execution_count": null,
   "metadata": {},
   "outputs": [],
   "source": [
    "for i in range (total_number_of_points):\n",
    "    D [i,:]=D [i,:]*G[:]"
   ]
  },
  {
   "cell_type": "markdown",
   "metadata": {},
   "source": [
    "Find k-nearest neighbors S for each point"
   ]
  },
  {
   "cell_type": "code",
   "execution_count": null,
   "metadata": {},
   "outputs": [],
   "source": [
    "D_sorted=np.zeros((total_number_of_points,search_size*search_size))\n",
    "D_sorted=np.argsort(D,1)\n",
    "S_sorted=D_sorted[:,0:neibor_number]"
   ]
  },
  {
   "cell_type": "markdown",
   "metadata": {},
   "source": [
    " Gather votes"
   ]
  },
  {
   "cell_type": "code",
   "execution_count": null,
   "metadata": {},
   "outputs": [],
   "source": [
    "L_knn=np.zeros((total_number_of_points,neibor_number))\n",
    "for i in range (total_number_of_points):\n",
    "    n=0\n",
    "    for j in S_sorted[i,:]:\n",
    "        if D[i,j] > cutoff:\n",
    "            L_knn[i,n]=classes_number+1\n",
    "        else :\n",
    "            L_knn[i,n]=L[i,j]\n",
    "        n +=1"
   ]
  },
  {
   "cell_type": "markdown",
   "metadata": {},
   "source": [
    " Accumulate votes"
   ]
  },
  {
   "cell_type": "code",
   "execution_count": null,
   "metadata": {},
   "outputs": [],
   "source": [
    "Votes=np.zeros((total_number_of_points,classes_number))\n",
    "for i in range (total_number_of_points):\n",
    "    for j in range (neibor_number):\n",
    "        if L_knn[i,j]<classes_number:\n",
    "            Votes[i,int(L_knn[i,j])] +=1"
   ]
  },
  {
   "cell_type": "markdown",
   "metadata": {},
   "source": [
    " Find maximum consensus"
   ]
  },
  {
   "cell_type": "code",
   "execution_count": null,
   "metadata": {},
   "outputs": [],
   "source": [
    "L_cons=np.zeros(total_number_of_points)\n",
    "for i in range(total_number_of_points):\n",
    "    L_cons[i]=np.argmax(Votes[i,:])"
   ]
  },
  {
   "cell_type": "code",
   "execution_count": null,
   "metadata": {},
   "outputs": [],
   "source": [
    "file = open (\"Labes3D\",\"wb\")\n",
    "pickle.dump(np.uint8(L_cons*100),file)\n",
    "file.close()"
   ]
  },
  {
   "cell_type": "markdown",
   "metadata": {},
   "source": [
    "make a point cloud data for matlab"
   ]
  },
  {
   "cell_type": "code",
   "execution_count": null,
   "metadata": {},
   "outputs": [],
   "source": [
    "def pointcloud_maker(points_2d_mapping,depth3d):\n",
    "    point_cloud = np.zeros((total_number_of_points,3))\n",
    "    \n",
    "    for i in range (total_number_of_points):\n",
    "        point=points_2d_mapping[i]\n",
    "        r = depth3d[i]\n",
    "        z=math.floor(point/1024)\n",
    "        theta=((2*math.pi)/1024)*math.floor(point%1024)\n",
    "        x=r*math.sin(theta)\n",
    "        y=r*math.cos(theta)\n",
    "        point_cloud[i,0]=x\n",
    "        point_cloud[i,1]=y\n",
    "        point_cloud[i,2]=math.sin((1-z/64)*0.49-0.45)*r\n",
    "    \n",
    "\n",
    "    return point_cloud\n",
    "\n",
    "\n",
    "\n",
    "PT=pointcloud_maker(points_2d_mapping,depth3d)\n",
    "\n",
    "io.savemat('PTpoints.mat', {\"data\": PT })\n",
    "io.savemat('PTlabels.mat', {\"labels\": L_cons })"
   ]
  }
 ],
 "metadata": {
  "interpreter": {
   "hash": "495847ca4d49c5daaf8fe12c868fa47f9a70031e6b10bf36fe46ebd7966de27f"
  },
  "kernelspec": {
   "display_name": "Python 3.10.4 64-bit",
   "language": "python",
   "name": "python3"
  },
  "language_info": {
   "codemirror_mode": {
    "name": "ipython",
    "version": 3
   },
   "file_extension": ".py",
   "mimetype": "text/x-python",
   "name": "python",
   "nbconvert_exporter": "python",
   "pygments_lexer": "ipython3",
   "version": "3.10.4"
  },
  "orig_nbformat": 4
 },
 "nbformat": 4,
 "nbformat_minor": 2
}
